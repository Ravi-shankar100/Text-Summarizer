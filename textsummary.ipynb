{
  "nbformat": 4,
  "nbformat_minor": 0,
  "metadata": {
    "colab": {
      "name": "textsummary.ipynb",
      "provenance": [],
      "collapsed_sections": [],
      "authorship_tag": "ABX9TyPnqnWiTXO77godvZYJo9w3",
      "include_colab_link": true
    },
    "kernelspec": {
      "name": "python3",
      "display_name": "Python 3"
    }
  },
  "cells": [
    {
      "cell_type": "markdown",
      "metadata": {
        "id": "view-in-github",
        "colab_type": "text"
      },
      "source": [
        "<a href=\"https://colab.research.google.com/github/Ravi-shankar100/Text-Summarizer/blob/master/textsummary.ipynb\" target=\"_parent\"><img src=\"https://colab.research.google.com/assets/colab-badge.svg\" alt=\"Open In Colab\"/></a>"
      ]
    },
    {
      "cell_type": "code",
      "metadata": {
        "id": "nfmF5eGRVcHW",
        "colab_type": "code",
        "colab": {
          "base_uri": "https://localhost:8080/",
          "height": 85
        },
        "outputId": "6c3a0c6c-400f-427a-c2f9-6f48526fad18"
      },
      "source": [
        "#Importing all the libraries\n",
        "import nltk \n",
        "from nltk.corpus import stopwords\n",
        "nltk.download('stopwords')\n",
        "nltk.download('punkt') \n",
        "from nltk.tokenize import word_tokenize, sent_tokenize\n",
        "import pandas as pd"
      ],
      "execution_count": 35,
      "outputs": [
        {
          "output_type": "stream",
          "text": [
            "[nltk_data] Downloading package stopwords to /root/nltk_data...\n",
            "[nltk_data]   Package stopwords is already up-to-date!\n",
            "[nltk_data] Downloading package punkt to /root/nltk_data...\n",
            "[nltk_data]   Package punkt is already up-to-date!\n"
          ],
          "name": "stdout"
        }
      ]
    },
    {
      "cell_type": "code",
      "metadata": {
        "id": "SATtVyzve5GW",
        "colab_type": "code",
        "colab": {}
      },
      "source": [
        "#Inputting the data\n",
        "text = \"\"\"There are many techniques available to generate extractive summarization to keep\n",
        "it simple, I will be using an unsupervised learning approach to find the sentences\n",
        "similarity and rank them. Summarization can be defined as a task of producing a\n",
        "concise and fluent summary while preserving key information and overall meaning.\n",
        "One benefit of this will be, you don’t need to train and build a model prior start using\n",
        "it for your project. It’s good to understand Cosine similarity to make the best use of\n",
        "the code you are going to see. Cosine similarity is a measure of similarity between\n",
        "two non-zero vectors of an inner product space that measures the cosine of the angle\n",
        "between them. Its measures cosine of the angle between vectors. The angle will be 0 if sentences are similar.\"\"\""
      ],
      "execution_count": 36,
      "outputs": []
    },
    {
      "cell_type": "code",
      "metadata": {
        "id": "bLxTsliT4ZpK",
        "colab_type": "code",
        "colab": {
          "base_uri": "https://localhost:8080/",
          "height": 71
        },
        "outputId": "16a1cd29-012c-416a-c1be-c5bf72a25157"
      },
      "source": [
        "##Tokenising the text\n",
        "\n",
        "stopWords = set(stopwords.words(\"english\"))\n",
        "print(stopWords)\n",
        "words = word_tokenize(text) \n",
        "print(words)"
      ],
      "execution_count": 38,
      "outputs": [
        {
          "output_type": "stream",
          "text": [
            "{'m', 'been', 'under', \"that'll\", 'was', \"don't\", \"wouldn't\", 'theirs', 'his', 'which', 'up', 'those', 'whom', 'he', 'have', 'about', 'that', 'don', 'just', 'our', 'hers', 'ourselves', 'itself', 'the', 'both', 'll', \"shan't\", 'haven', 'herself', 'shan', 'themselves', 'during', 'while', 'has', 'other', 'from', 'once', 'myself', 'its', \"mustn't\", 'me', 'did', 'should', 'my', 'against', 'she', 'hasn', 'of', 'them', 'for', 'wouldn', 'i', 'couldn', 'your', 'it', 'd', 'do', 'before', 'than', 'didn', 'to', 'some', \"needn't\", 'at', 'had', 'mustn', \"isn't\", 'more', \"you'll\", \"it's\", 'these', 'off', 'when', 'does', 'him', 'how', 'no', \"couldn't\", 'above', 'there', 'being', 'so', 'ain', 'or', \"aren't\", 'himself', 'mightn', 'hadn', 'you', 'doesn', 'yourselves', 'because', 'down', 'on', 'be', 'shouldn', 'too', \"mightn't\", 've', \"you're\", 'by', 'again', 'each', 'o', 'same', 'is', 'and', \"shouldn't\", 'not', 'y', 'needn', 'out', 'very', 'then', 'only', 'this', 'aren', 'they', 'with', 'yourself', \"haven't\", 's', 'few', 'can', \"doesn't\", 'will', \"weren't\", \"you've\", 'ours', 'where', 'here', 'we', 'weren', 'in', 'nor', 'are', 'their', 'why', 'most', 'won', 'such', 'as', \"should've\", 't', 'doing', 'over', 'having', 'until', 'what', \"won't\", \"you'd\", \"she's\", 'below', 'further', 'after', 'an', 'all', 'between', 'own', 'isn', 'now', \"didn't\", \"wasn't\", 're', \"hadn't\", 'were', 'am', 'yours', 'into', 'her', 'a', 'ma', 'any', 'but', 'if', 'who', 'wasn', \"hasn't\", 'through'}\n",
            "['There', 'are', 'many', 'techniques', 'available', 'to', 'generate', 'extractive', 'summarization', 'to', 'keep', 'it', 'simple', ',', 'I', 'will', 'be', 'using', 'an', 'unsupervised', 'learning', 'approach', 'to', 'find', 'the', 'sentences', 'similarity', 'and', 'rank', 'them', '.', 'Summarization', 'can', 'be', 'defined', 'as', 'a', 'task', 'of', 'producing', 'a', 'concise', 'and', 'fluent', 'summary', 'while', 'preserving', 'key', 'information', 'and', 'overall', 'meaning', '.', 'One', 'benefit', 'of', 'this', 'will', 'be', ',', 'you', 'don', '’', 't', 'need', 'to', 'train', 'and', 'build', 'a', 'model', 'prior', 'start', 'using', 'it', 'for', 'your', 'project', '.', 'It', '’', 's', 'good', 'to', 'understand', 'Cosine', 'similarity', 'to', 'make', 'the', 'best', 'use', 'of', 'the', 'code', 'you', 'are', 'going', 'to', 'see', '.', 'Cosine', 'similarity', 'is', 'a', 'measure', 'of', 'similarity', 'between', 'two', 'non-zero', 'vectors', 'of', 'an', 'inner', 'product', 'space', 'that', 'measures', 'the', 'cosine', 'of', 'the', 'angle', 'between', 'them', '.', 'Its', 'measures', 'cosine', 'of', 'the', 'angle', 'between', 'vectors', '.', 'The', 'angle', 'will', 'be', '0', 'if', 'sentences', 'are', 'similar', '.']\n"
          ],
          "name": "stdout"
        }
      ]
    },
    {
      "cell_type": "code",
      "metadata": {
        "id": "nukq2Sxn57Dl",
        "colab_type": "code",
        "colab": {}
      },
      "source": [
        "##Create a Frequency table to keep the score of each word\n",
        "freqtable= dict()\n",
        "for word in words:\n",
        "  word = word.lower()\n",
        "  if word in stopWords:\n",
        "    continue\n",
        "  if word in freqtable:\n",
        "    freqtable[word] += 1\n",
        "  else:\n",
        "    freqtable[word]= 1"
      ],
      "execution_count": 39,
      "outputs": []
    },
    {
      "cell_type": "code",
      "metadata": {
        "id": "kwV-jvp_7ywt",
        "colab_type": "code",
        "colab": {
          "base_uri": "https://localhost:8080/",
          "height": 54
        },
        "outputId": "9aac5f09-828a-40fe-ed0f-cc32a2bfcd67"
      },
      "source": [
        "print(freqtable)"
      ],
      "execution_count": 40,
      "outputs": [
        {
          "output_type": "stream",
          "text": [
            "{'many': 1, 'techniques': 1, 'available': 1, 'generate': 1, 'extractive': 1, 'summarization': 2, 'keep': 1, 'simple': 1, ',': 2, 'using': 2, 'unsupervised': 1, 'learning': 1, 'approach': 1, 'find': 1, 'sentences': 2, 'similarity': 4, 'rank': 1, '.': 7, 'defined': 1, 'task': 1, 'producing': 1, 'concise': 1, 'fluent': 1, 'summary': 1, 'preserving': 1, 'key': 1, 'information': 1, 'overall': 1, 'meaning': 1, 'one': 1, 'benefit': 1, '’': 2, 'need': 1, 'train': 1, 'build': 1, 'model': 1, 'prior': 1, 'start': 1, 'project': 1, 'good': 1, 'understand': 1, 'cosine': 4, 'make': 1, 'best': 1, 'use': 1, 'code': 1, 'going': 1, 'see': 1, 'measure': 1, 'two': 1, 'non-zero': 1, 'vectors': 2, 'inner': 1, 'product': 1, 'space': 1, 'measures': 2, 'angle': 3, '0': 1, 'similar': 1}\n"
          ],
          "name": "stdout"
        }
      ]
    },
    {
      "cell_type": "code",
      "metadata": {
        "id": "eIosc77j74o3",
        "colab_type": "code",
        "colab": {}
      },
      "source": [
        "# Creating a dictionary to keep the score of each sentence\n",
        "sentences = sent_tokenize(text)\n",
        "sentenceValue = dict()\n",
        "\n",
        "for sentence in sentences:\n",
        "  for word , freq in freqtable.items():\n",
        "    if word in sentence.lower():\n",
        "      if sentence in sentenceValue:\n",
        "          sentenceValue[sentence] += freq\n",
        "      else:\n",
        "          sentenceValue[sentence]= freq "
      ],
      "execution_count": 41,
      "outputs": []
    },
    {
      "cell_type": "code",
      "metadata": {
        "id": "QyCrFl918x4H",
        "colab_type": "code",
        "colab": {}
      },
      "source": [
        "sumValues= 0\n",
        "for sentence in sentenceValue:\n",
        "  sumValues+= sentenceValue[sentence]"
      ],
      "execution_count": 42,
      "outputs": []
    },
    {
      "cell_type": "code",
      "metadata": {
        "id": "8PBWrZx58-Gb",
        "colab_type": "code",
        "colab": {
          "base_uri": "https://localhost:8080/",
          "height": 102
        },
        "outputId": "2c2fedfd-6b6a-4792-f8b6-89ffe6404348"
      },
      "source": [
        "# Average value of a sentence from the original text \n",
        "   \n",
        "average = int(sumValues / len(sentenceValue)) \n",
        "   \n",
        "# Storing sentences into our summary. \n",
        "summary = '' \n",
        "for sentence in sentences: \n",
        "    if (sentence in sentenceValue) and (sentenceValue[sentence] > (1.2 * average)): \n",
        "        summary += \" \" + sentence \n",
        "print(summary)"
      ],
      "execution_count": 43,
      "outputs": [
        {
          "output_type": "stream",
          "text": [
            " There are many techniques available to generate extractive summarization to keep\n",
            "it simple, I will be using an unsupervised learning approach to find the sentences\n",
            "similarity and rank them. Cosine similarity is a measure of similarity between\n",
            "two non-zero vectors of an inner product space that measures the cosine of the angle\n",
            "between them.\n"
          ],
          "name": "stdout"
        }
      ]
    }
  ]
}